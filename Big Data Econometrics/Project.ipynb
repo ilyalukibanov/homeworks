{
 "cells": [
  {
   "cell_type": "markdown",
   "metadata": {},
   "source": [
    "# Project"
   ]
  },
  {
   "cell_type": "markdown",
   "metadata": {},
   "source": [
    "### Anbar Aizenman, Ilya Lukibanov, Irina Osipova, Isamar Troncoso"
   ]
  },
  {
   "cell_type": "markdown",
   "metadata": {},
   "source": [
    "Import libraries"
   ]
  },
  {
   "cell_type": "code",
   "execution_count": 1,
   "metadata": {},
   "outputs": [],
   "source": [
    "import numpy as np\n",
    "import pandas as pd\n",
    "from sklearn.datasets import load_boston\n",
    "from sklearn.model_selection import KFold, GridSearchCV\n",
    "from sklearn.tree import DecisionTreeRegressor\n",
    "from sklearn.ensemble import BaggingRegressor, RandomForestRegressor\n",
    "import matplotlib.pyplot as plt\n",
    "import random\n",
    "from sklearn import tree\n",
    "from sklearn import metrics\n",
    "from scipy.sparse import csr_matrix\n",
    "import math\n",
    "import scipy\n",
    "from ipywidgets import IntProgress\n",
    "from IPython.display import display\n",
    "import time"
   ]
  },
  {
   "cell_type": "code",
   "execution_count": 2,
   "metadata": {},
   "outputs": [],
   "source": [
    "def Causal_Forest_Estimator(X, y, D, W, s, B, clf):\n",
    "    \"\"\"Estimate the causal forest.\n",
    "\n",
    "    Keyword arguments:\n",
    "    X -- control variables (features)\n",
    "    y -- outcome variable (target)\n",
    "    D -- eligibility status; not random treatment - people who decided to use Medicaid\n",
    "    W -- intension to treat (lottery) - use the same as instrument in IV\n",
    "    s -- side of the train sample\n",
    "    B -- number of trees in the forest (default 10,000)\n",
    "    clf -- basic classifier\n",
    "    \"\"\"\n",
    "    #vectors of results:\n",
    "    #r2 for each tree\n",
    "    r = np.zeros(B)\n",
    "    #mean effect for each observation in each tree\n",
    "    m = np.zeros((B,n))\n",
    "    #treatment effect for each observation in each tree\n",
    "    tef = np.zeros((B,n))\n",
    "    #matrix of occurances\n",
    "    N = np.zeros((B,n))\n",
    "    f = IntProgress(min=0, max=B) # instantiate the bar\n",
    "    display(f) # display the bar\n",
    "    for i in range(0,B):\n",
    "        #create mask to select subsample for the trees\n",
    "        subSampleMask = random.sample(range(0, n), s)\n",
    "        #we need this to compute variance (see equation 8 in the WA paper)\n",
    "        z = np.zeros(n)\n",
    "        for j in subSampleMask:\n",
    "            z[j] = 1\n",
    "        N[i] = z\n",
    "        # Create set I (to estimate leaf-wise responses)\n",
    "        setIMask = random.sample(subSampleMask, np.int(np.ceil(s/2.)))\n",
    "        setI = X[setIMask]\n",
    "        # Create set J (to grow a tree)\n",
    "        setJMask = [i for i in subSampleMask if i not in setIMask]\n",
    "        setJ = X[setJMask]\n",
    "        # Create tree on the J set\n",
    "        clf = clf.fit(setJ, y[setJMask])\n",
    "        # Out of sample R^2, but not honest estimation of the model (use the same y's from sample J to estimate the model)\n",
    "        r[i] = clf.score(setI,y[setIMask])\n",
    "        # extract tree structure to build honest model\n",
    "        ni = clf.decision_path(X).toarray()\n",
    "        # use only y's from sample I\n",
    "        ni_maskI = clf.decision_path(setI).toarray()\n",
    "        # extract the nest number for each observation\n",
    "        # for full data\n",
    "        for j in range(0,ni.shape[1]):\n",
    "            ni[:,j] = ni[:,j] * j\n",
    "        # for restricted \n",
    "        for j in range(0,ni_maskI.shape[1]):\n",
    "            ni_maskI[:,j] = ni_maskI[:,j] * j\n",
    "        # array of indexes of nests to calculate average among them:\n",
    "        y_nest = np.max(ni,axis=1)\n",
    "        y_nest_maskI = np.max(ni_maskI,axis=1).reshape(ni_maskI.shape[0],1)\n",
    "        #y's with mask I\n",
    "        y_maskI = y[setIMask].reshape(y[setIMask].shape[0],1)\n",
    "        # treatments with mask I\n",
    "        W_maskI = W[setIMask].reshape(y_nest_maskI.shape[0],1)\n",
    "        D_maskI = D[setIMask].reshape(y_nest_maskI.shape[0],1)\n",
    "        # to collect mean and treatment effects\n",
    "        nest_m = np.zeros(ni_maskI.shape[1])\n",
    "        nest_t = np.zeros(ni_maskI.shape[1])\n",
    "        # go through all final nodes to compute effects in them\n",
    "        for j in np.unique(y_nest_maskI):\n",
    "            # mean effect\n",
    "            su = np.sum(y_maskI[y_nest_maskI==j])/np.sum([y_nest_maskI==j])\n",
    "            nest_m[j] = su\n",
    "            # treatment effect (LATE)\n",
    "            e1 = np.sum(y_maskI[np.multiply((y_nest_maskI==j).reshape(y_nest_maskI.shape[0],1),(W_maskI == 1).reshape(y_nest_maskI.shape[0],1))])/np.sum([np.multiply((y_nest_maskI==j).reshape(y_nest_maskI.shape[0],1),(W_maskI == 1).reshape(y_nest_maskI.shape[0],1))] )\n",
    "            e0 = np.sum(y_maskI[np.multiply((y_nest_maskI==j).reshape(y_nest_maskI.shape[0],1),(W_maskI == 0).reshape(y_nest_maskI.shape[0],1))])/np.sum([np.multiply((y_nest_maskI==j).reshape(y_nest_maskI.shape[0],1),(W_maskI == 0).reshape(y_nest_maskI.shape[0],1))] )\n",
    "            te = e1 - e0\n",
    "            # actually, WA does not have have following part in their model, but assimptotic derivations should be the same for LATE\n",
    "            d1 = np.sum(D_maskI[np.multiply((y_nest_maskI==j).reshape(y_nest_maskI.shape[0],1),(W_maskI == 1).reshape(y_nest_maskI.shape[0],1))])/np.sum([np.multiply((y_nest_maskI==j).reshape(y_nest_maskI.shape[0],1),(W_maskI == 1).reshape(y_nest_maskI.shape[0],1))] )\n",
    "            d0 = np.sum(D_maskI[np.multiply((y_nest_maskI==j).reshape(y_nest_maskI.shape[0],1),(W_maskI == 0).reshape(y_nest_maskI.shape[0],1))])/np.sum([np.multiply((y_nest_maskI==j).reshape(y_nest_maskI.shape[0],1),(W_maskI == 0).reshape(y_nest_maskI.shape[0],1))] )\n",
    "            if math.isnan(e1) or math.isnan(e0): \n",
    "                te = 0\n",
    "            nest_t[j] = te/(d1-d0)\n",
    "        # extrapolate results to all observations\n",
    "        y_pr = np.zeros(ni.shape[0])\n",
    "        tefj = np.zeros(ni.shape[0])\n",
    "        for j in range(0,ni.shape[0]):\n",
    "            y_pr[j] = nest_m[y_nest[j]]\n",
    "            tefj[j] = nest_t[y_nest[j]]\n",
    "        m[i] = y_pr.reshape(1,n)\n",
    "        tef[i] = tefj.reshape(1,n)\n",
    "        f.value += 1\n",
    "    return tef, r, m, N"
   ]
  },
  {
   "cell_type": "code",
   "execution_count": 3,
   "metadata": {},
   "outputs": [],
   "source": [
    "def compute_variance(N, tef):\n",
    "    \"\"\"Compute the variance based on equation 8 from the paper\n",
    "\n",
    "    Keyword arguments:\n",
    "    N -- matrix of occurances\n",
    "    tef -- treatment effect\n",
    "    \"\"\"\n",
    "    V = 0\n",
    "    for i in range(0,n):\n",
    "        V = V + pow(np.cov(N[:,i],tef[:,i])[0,1],2)\n",
    "    print(V)\n",
    "    V = V * (n-1) * n / pow(n-s,2)\n",
    "    print(V)\n",
    "    print(math.sqrt(V)) # standard deviation"
   ]
  },
  {
   "cell_type": "code",
   "execution_count": 4,
   "metadata": {},
   "outputs": [],
   "source": [
    "def compute_statistics(tef):\n",
    "    \"\"\"Compute min, mean, and max of the treatment effect\n",
    "\n",
    "    Keyword arguments:\n",
    "    tef -- treatment effect\n",
    "    \"\"\"\n",
    "    print('Min treatment effect:', f'{np.min(np.mean(tef,axis=0)):.5f}')\n",
    "    print('Mean treatment effect:', f'{np.mean(np.mean(tef,axis=0)):.5f}')\n",
    "    print('Max treatment effect:', f'{np.max(np.mean(tef,axis=0)):.5f}')"
   ]
  },
  {
   "cell_type": "code",
   "execution_count": 5,
   "metadata": {},
   "outputs": [],
   "source": [
    "def plot_tef_hist(tef):\n",
    "    \"\"\"Plot histogram of the treatment effect\n",
    "\n",
    "    Keyword arguments:\n",
    "    tef -- treatment effect\n",
    "    \"\"\"\n",
    "    plt.hist(np.mean(tef,axis=0), bins='auto')\n",
    "    plt.style.use('seaborn-white')\n",
    "    plt.show()"
   ]
  },
  {
   "cell_type": "markdown",
   "metadata": {},
   "source": [
    "Download data"
   ]
  },
  {
   "cell_type": "code",
   "execution_count": 6,
   "metadata": {},
   "outputs": [],
   "source": [
    "data = pd.read_csv('C:/Users/Ilya/Downloads/clean_data.csv')\n",
    "D = np.array(data['treat']) \n",
    "W = np.array(data['lottery']) \n",
    "y = np.array(data['high_bp_post']) \n",
    "X = pd.read_csv('C:/Users/Ilya/Downloads/controls.csv',delimiter='\\t')\n",
    "X = X.drop('num_epct_ed',axis=1)\n",
    "X = np.array(X)"
   ]
  },
  {
   "cell_type": "code",
   "execution_count": 7,
   "metadata": {},
   "outputs": [
    {
     "data": {
      "text/html": [
       "<div>\n",
       "<style scoped>\n",
       "    .dataframe tbody tr th:only-of-type {\n",
       "        vertical-align: middle;\n",
       "    }\n",
       "\n",
       "    .dataframe tbody tr th {\n",
       "        vertical-align: top;\n",
       "    }\n",
       "\n",
       "    .dataframe thead th {\n",
       "        text-align: right;\n",
       "    }\n",
       "</style>\n",
       "<table border=\"1\" class=\"dataframe\">\n",
       "  <thead>\n",
       "    <tr style=\"text-align: right;\">\n",
       "      <th></th>\n",
       "      <th>Unnamed: 0</th>\n",
       "      <th>person_id</th>\n",
       "      <th>treatment</th>\n",
       "      <th>approved_app</th>\n",
       "      <th>chl_dx_post_lottery_inp</th>\n",
       "      <th>hbp_dx_post_lottery_inp</th>\n",
       "      <th>num_epct_ed</th>\n",
       "      <th>num_epct_pre_ed</th>\n",
       "      <th>birthyear_list</th>\n",
       "      <th>female_list</th>\n",
       "      <th>...</th>\n",
       "      <th>high_bp_post</th>\n",
       "      <th>lottery</th>\n",
       "      <th>treat</th>\n",
       "      <th>high_chl_pre</th>\n",
       "      <th>high_bp_pre</th>\n",
       "      <th>female</th>\n",
       "      <th>smoke</th>\n",
       "      <th>edu_less_hs</th>\n",
       "      <th>edu_just_hs</th>\n",
       "      <th>edu_higher_hs</th>\n",
       "    </tr>\n",
       "  </thead>\n",
       "  <tbody>\n",
       "    <tr>\n",
       "      <th>0</th>\n",
       "      <td>1</td>\n",
       "      <td>5</td>\n",
       "      <td>Selected</td>\n",
       "      <td>No</td>\n",
       "      <td>No</td>\n",
       "      <td>No</td>\n",
       "      <td>0.000000</td>\n",
       "      <td>0.000000</td>\n",
       "      <td>1969</td>\n",
       "      <td>1: Female</td>\n",
       "      <td>...</td>\n",
       "      <td>0</td>\n",
       "      <td>1</td>\n",
       "      <td>0</td>\n",
       "      <td>0</td>\n",
       "      <td>0</td>\n",
       "      <td>1</td>\n",
       "      <td>0</td>\n",
       "      <td>0</td>\n",
       "      <td>1</td>\n",
       "      <td>0</td>\n",
       "    </tr>\n",
       "    <tr>\n",
       "      <th>1</th>\n",
       "      <td>2</td>\n",
       "      <td>8</td>\n",
       "      <td>Not selected</td>\n",
       "      <td>NaN</td>\n",
       "      <td>Yes</td>\n",
       "      <td>Yes</td>\n",
       "      <td>0.688593</td>\n",
       "      <td>0.000000</td>\n",
       "      <td>1968</td>\n",
       "      <td>0: Male</td>\n",
       "      <td>...</td>\n",
       "      <td>1</td>\n",
       "      <td>0</td>\n",
       "      <td>0</td>\n",
       "      <td>0</td>\n",
       "      <td>0</td>\n",
       "      <td>0</td>\n",
       "      <td>1</td>\n",
       "      <td>0</td>\n",
       "      <td>1</td>\n",
       "      <td>0</td>\n",
       "    </tr>\n",
       "    <tr>\n",
       "      <th>2</th>\n",
       "      <td>3</td>\n",
       "      <td>16</td>\n",
       "      <td>Not selected</td>\n",
       "      <td>NaN</td>\n",
       "      <td>No</td>\n",
       "      <td>No</td>\n",
       "      <td>1.572581</td>\n",
       "      <td>0.669725</td>\n",
       "      <td>1971</td>\n",
       "      <td>1: Female</td>\n",
       "      <td>...</td>\n",
       "      <td>0</td>\n",
       "      <td>0</td>\n",
       "      <td>0</td>\n",
       "      <td>0</td>\n",
       "      <td>0</td>\n",
       "      <td>1</td>\n",
       "      <td>0</td>\n",
       "      <td>0</td>\n",
       "      <td>1</td>\n",
       "      <td>0</td>\n",
       "    </tr>\n",
       "    <tr>\n",
       "      <th>3</th>\n",
       "      <td>4</td>\n",
       "      <td>18</td>\n",
       "      <td>Not selected</td>\n",
       "      <td>NaN</td>\n",
       "      <td>No</td>\n",
       "      <td>No</td>\n",
       "      <td>0.000000</td>\n",
       "      <td>0.861185</td>\n",
       "      <td>1957</td>\n",
       "      <td>0: Male</td>\n",
       "      <td>...</td>\n",
       "      <td>0</td>\n",
       "      <td>0</td>\n",
       "      <td>0</td>\n",
       "      <td>0</td>\n",
       "      <td>0</td>\n",
       "      <td>0</td>\n",
       "      <td>1</td>\n",
       "      <td>0</td>\n",
       "      <td>0</td>\n",
       "      <td>1</td>\n",
       "    </tr>\n",
       "    <tr>\n",
       "      <th>4</th>\n",
       "      <td>5</td>\n",
       "      <td>23</td>\n",
       "      <td>Selected</td>\n",
       "      <td>Yes</td>\n",
       "      <td>No</td>\n",
       "      <td>No</td>\n",
       "      <td>0.000000</td>\n",
       "      <td>0.000000</td>\n",
       "      <td>1977</td>\n",
       "      <td>1: Female</td>\n",
       "      <td>...</td>\n",
       "      <td>0</td>\n",
       "      <td>1</td>\n",
       "      <td>1</td>\n",
       "      <td>0</td>\n",
       "      <td>0</td>\n",
       "      <td>1</td>\n",
       "      <td>0</td>\n",
       "      <td>1</td>\n",
       "      <td>0</td>\n",
       "      <td>0</td>\n",
       "    </tr>\n",
       "    <tr>\n",
       "      <th>...</th>\n",
       "      <td>...</td>\n",
       "      <td>...</td>\n",
       "      <td>...</td>\n",
       "      <td>...</td>\n",
       "      <td>...</td>\n",
       "      <td>...</td>\n",
       "      <td>...</td>\n",
       "      <td>...</td>\n",
       "      <td>...</td>\n",
       "      <td>...</td>\n",
       "      <td>...</td>\n",
       "      <td>...</td>\n",
       "      <td>...</td>\n",
       "      <td>...</td>\n",
       "      <td>...</td>\n",
       "      <td>...</td>\n",
       "      <td>...</td>\n",
       "      <td>...</td>\n",
       "      <td>...</td>\n",
       "      <td>...</td>\n",
       "      <td>...</td>\n",
       "    </tr>\n",
       "    <tr>\n",
       "      <th>9704</th>\n",
       "      <td>9705</td>\n",
       "      <td>74894</td>\n",
       "      <td>Not selected</td>\n",
       "      <td>NaN</td>\n",
       "      <td>No</td>\n",
       "      <td>No</td>\n",
       "      <td>0.874928</td>\n",
       "      <td>0.000000</td>\n",
       "      <td>1982</td>\n",
       "      <td>0: Male</td>\n",
       "      <td>...</td>\n",
       "      <td>0</td>\n",
       "      <td>0</td>\n",
       "      <td>0</td>\n",
       "      <td>0</td>\n",
       "      <td>0</td>\n",
       "      <td>0</td>\n",
       "      <td>1</td>\n",
       "      <td>0</td>\n",
       "      <td>1</td>\n",
       "      <td>0</td>\n",
       "    </tr>\n",
       "    <tr>\n",
       "      <th>9705</th>\n",
       "      <td>9706</td>\n",
       "      <td>74900</td>\n",
       "      <td>Selected</td>\n",
       "      <td>No</td>\n",
       "      <td>No</td>\n",
       "      <td>No</td>\n",
       "      <td>0.000000</td>\n",
       "      <td>0.000000</td>\n",
       "      <td>1970</td>\n",
       "      <td>1: Female</td>\n",
       "      <td>...</td>\n",
       "      <td>0</td>\n",
       "      <td>1</td>\n",
       "      <td>0</td>\n",
       "      <td>0</td>\n",
       "      <td>0</td>\n",
       "      <td>1</td>\n",
       "      <td>0</td>\n",
       "      <td>0</td>\n",
       "      <td>0</td>\n",
       "      <td>1</td>\n",
       "    </tr>\n",
       "    <tr>\n",
       "      <th>9706</th>\n",
       "      <td>9707</td>\n",
       "      <td>74905</td>\n",
       "      <td>Not selected</td>\n",
       "      <td>NaN</td>\n",
       "      <td>Yes</td>\n",
       "      <td>No</td>\n",
       "      <td>0.000000</td>\n",
       "      <td>0.000000</td>\n",
       "      <td>1955</td>\n",
       "      <td>0: Male</td>\n",
       "      <td>...</td>\n",
       "      <td>0</td>\n",
       "      <td>0</td>\n",
       "      <td>0</td>\n",
       "      <td>0</td>\n",
       "      <td>1</td>\n",
       "      <td>0</td>\n",
       "      <td>0</td>\n",
       "      <td>0</td>\n",
       "      <td>0</td>\n",
       "      <td>1</td>\n",
       "    </tr>\n",
       "    <tr>\n",
       "      <th>9707</th>\n",
       "      <td>9708</td>\n",
       "      <td>74906</td>\n",
       "      <td>Selected</td>\n",
       "      <td>Yes</td>\n",
       "      <td>No</td>\n",
       "      <td>No</td>\n",
       "      <td>1.367647</td>\n",
       "      <td>0.000000</td>\n",
       "      <td>1967</td>\n",
       "      <td>0: Male</td>\n",
       "      <td>...</td>\n",
       "      <td>0</td>\n",
       "      <td>1</td>\n",
       "      <td>1</td>\n",
       "      <td>0</td>\n",
       "      <td>0</td>\n",
       "      <td>0</td>\n",
       "      <td>0</td>\n",
       "      <td>0</td>\n",
       "      <td>0</td>\n",
       "      <td>1</td>\n",
       "    </tr>\n",
       "    <tr>\n",
       "      <th>9708</th>\n",
       "      <td>9709</td>\n",
       "      <td>74911</td>\n",
       "      <td>Selected</td>\n",
       "      <td>No</td>\n",
       "      <td>No</td>\n",
       "      <td>No</td>\n",
       "      <td>0.000000</td>\n",
       "      <td>0.000000</td>\n",
       "      <td>1963</td>\n",
       "      <td>0: Male</td>\n",
       "      <td>...</td>\n",
       "      <td>0</td>\n",
       "      <td>1</td>\n",
       "      <td>0</td>\n",
       "      <td>1</td>\n",
       "      <td>1</td>\n",
       "      <td>0</td>\n",
       "      <td>0</td>\n",
       "      <td>1</td>\n",
       "      <td>0</td>\n",
       "      <td>0</td>\n",
       "    </tr>\n",
       "  </tbody>\n",
       "</table>\n",
       "<p>9709 rows × 27 columns</p>\n",
       "</div>"
      ],
      "text/plain": [
       "      Unnamed: 0  person_id     treatment approved_app  \\\n",
       "0              1          5      Selected           No   \n",
       "1              2          8  Not selected          NaN   \n",
       "2              3         16  Not selected          NaN   \n",
       "3              4         18  Not selected          NaN   \n",
       "4              5         23      Selected          Yes   \n",
       "...          ...        ...           ...          ...   \n",
       "9704        9705      74894  Not selected          NaN   \n",
       "9705        9706      74900      Selected           No   \n",
       "9706        9707      74905  Not selected          NaN   \n",
       "9707        9708      74906      Selected          Yes   \n",
       "9708        9709      74911      Selected           No   \n",
       "\n",
       "     chl_dx_post_lottery_inp hbp_dx_post_lottery_inp  num_epct_ed  \\\n",
       "0                         No                      No     0.000000   \n",
       "1                        Yes                     Yes     0.688593   \n",
       "2                         No                      No     1.572581   \n",
       "3                         No                      No     0.000000   \n",
       "4                         No                      No     0.000000   \n",
       "...                      ...                     ...          ...   \n",
       "9704                      No                      No     0.874928   \n",
       "9705                      No                      No     0.000000   \n",
       "9706                     Yes                      No     0.000000   \n",
       "9707                      No                      No     1.367647   \n",
       "9708                      No                      No     0.000000   \n",
       "\n",
       "      num_epct_pre_ed  birthyear_list female_list  ... high_bp_post lottery  \\\n",
       "0            0.000000            1969   1: Female  ...            0       1   \n",
       "1            0.000000            1968     0: Male  ...            1       0   \n",
       "2            0.669725            1971   1: Female  ...            0       0   \n",
       "3            0.861185            1957     0: Male  ...            0       0   \n",
       "4            0.000000            1977   1: Female  ...            0       1   \n",
       "...               ...             ...         ...  ...          ...     ...   \n",
       "9704         0.000000            1982     0: Male  ...            0       0   \n",
       "9705         0.000000            1970   1: Female  ...            0       1   \n",
       "9706         0.000000            1955     0: Male  ...            0       0   \n",
       "9707         0.000000            1967     0: Male  ...            0       1   \n",
       "9708         0.000000            1963     0: Male  ...            0       1   \n",
       "\n",
       "     treat high_chl_pre high_bp_pre female  smoke  edu_less_hs  edu_just_hs  \\\n",
       "0        0            0           0      1      0            0            1   \n",
       "1        0            0           0      0      1            0            1   \n",
       "2        0            0           0      1      0            0            1   \n",
       "3        0            0           0      0      1            0            0   \n",
       "4        1            0           0      1      0            1            0   \n",
       "...    ...          ...         ...    ...    ...          ...          ...   \n",
       "9704     0            0           0      0      1            0            1   \n",
       "9705     0            0           0      1      0            0            0   \n",
       "9706     0            0           1      0      0            0            0   \n",
       "9707     1            0           0      0      0            0            0   \n",
       "9708     0            1           1      0      0            1            0   \n",
       "\n",
       "      edu_higher_hs  \n",
       "0                 0  \n",
       "1                 0  \n",
       "2                 0  \n",
       "3                 1  \n",
       "4                 0  \n",
       "...             ...  \n",
       "9704              0  \n",
       "9705              1  \n",
       "9706              1  \n",
       "9707              1  \n",
       "9708              0  \n",
       "\n",
       "[9709 rows x 27 columns]"
      ]
     },
     "execution_count": 7,
     "metadata": {},
     "output_type": "execute_result"
    }
   ],
   "source": [
    "data"
   ]
  },
  {
   "cell_type": "markdown",
   "metadata": {},
   "source": [
    "Set parameters"
   ]
  },
  {
   "cell_type": "code",
   "execution_count": 8,
   "metadata": {},
   "outputs": [],
   "source": [
    "n = X.shape[0]\n",
    "#size of the train sample (n/2 worked well in the WA paper)\n",
    "s = int(n/2)\n",
    "#number of trees\n",
    "B = 10000"
   ]
  },
  {
   "cell_type": "markdown",
   "metadata": {},
   "source": [
    "#### Minimum leaf size 500"
   ]
  },
  {
   "cell_type": "code",
   "execution_count": 9,
   "metadata": {},
   "outputs": [],
   "source": [
    "#basic tree classifier\n",
    "clf = tree.DecisionTreeRegressor(criterion='mse',min_samples_leaf=500)"
   ]
  },
  {
   "cell_type": "markdown",
   "metadata": {},
   "source": [
    "Train B trees to get the forest"
   ]
  },
  {
   "cell_type": "code",
   "execution_count": 10,
   "metadata": {
    "scrolled": true
   },
   "outputs": [
    {
     "data": {
      "application/vnd.jupyter.widget-view+json": {
       "model_id": "63af489446884cd8bffb4bc5040abcca",
       "version_major": 2,
       "version_minor": 0
      },
      "text/plain": [
       "IntProgress(value=0, max=10000)"
      ]
     },
     "metadata": {},
     "output_type": "display_data"
    },
    {
     "name": "stdout",
     "output_type": "stream",
     "text": [
      "0.005675932494117492\n"
     ]
    }
   ],
   "source": [
    "tef, r, m, N = Causal_Forest_Estimator(X, y, D, W, s, B, clf)\n",
    "print(np.mean(r))"
   ]
  },
  {
   "cell_type": "markdown",
   "metadata": {},
   "source": [
    "Compute variance"
   ]
  },
  {
   "cell_type": "code",
   "execution_count": 11,
   "metadata": {},
   "outputs": [
    {
     "name": "stdout",
     "output_type": "stream",
     "text": [
      "0.0014138686358374844\n",
      "0.00565372734883359\n",
      "0.07519127175965033\n"
     ]
    }
   ],
   "source": [
    "compute_variance(N, tef)"
   ]
  },
  {
   "cell_type": "markdown",
   "metadata": {},
   "source": [
    "Statistics of treatment effect (min, mean, max)"
   ]
  },
  {
   "cell_type": "code",
   "execution_count": 12,
   "metadata": {
    "scrolled": true
   },
   "outputs": [
    {
     "name": "stdout",
     "output_type": "stream",
     "text": [
      "Min treatment effect: -0.02927\n",
      "Mean treatment effect: -0.00722\n",
      "Max treatment effect: 0.01614\n"
     ]
    }
   ],
   "source": [
    "compute_statistics(tef)"
   ]
  },
  {
   "cell_type": "markdown",
   "metadata": {},
   "source": [
    "Plot of the heterogeneity of the treatment effect:"
   ]
  },
  {
   "cell_type": "code",
   "execution_count": 13,
   "metadata": {
    "scrolled": false
   },
   "outputs": [
    {
     "data": {
      "image/png": "[encoded data removed]",
      "text/plain": [
       "<Figure size 432x288 with 1 Axes>"
      ]
     },
     "metadata": {
      "needs_background": "light"
     },
     "output_type": "display_data"
    }
   ],
   "source": [
    "plot_tef_hist(tef)"
   ]
  },
  {
   "cell_type": "markdown",
   "metadata": {},
   "source": [
    "Find average characteristics for people for whom treatment effect is positive and for whom treatment effect is negative (or alternatively above or below the mean)"
   ]
  },
  {
   "cell_type": "code",
   "execution_count": 14,
   "metadata": {
    "scrolled": false
   },
   "outputs": [
    {
     "data": {
      "text/plain": [
       "array([2.65449253e-01, 1.95820500e+03, 2.11899116e-01, 3.01573615e-01,\n",
       "       5.61327872e-01, 4.40396637e-01, 1.78055615e-01, 4.44923475e-01,\n",
       "       3.77020910e-01])"
      ]
     },
     "execution_count": 14,
     "metadata": {},
     "output_type": "execute_result"
    }
   ],
   "source": [
    "np.mean(X[np.mean(tef,axis=0)>0],axis=0)"
   ]
  },
  {
   "cell_type": "code",
   "execution_count": 15,
   "metadata": {},
   "outputs": [
    {
     "data": {
      "text/plain": [
       "array([2.76811540e-01, 1.97822998e+03, 5.06903353e-02, 7.55424063e-02,\n",
       "       5.62919132e-01, 4.13806706e-01, 2.22682446e-01, 4.58974359e-01,\n",
       "       3.18343195e-01])"
      ]
     },
     "execution_count": 15,
     "metadata": {},
     "output_type": "execute_result"
    }
   ],
   "source": [
    "np.mean(X[np.mean(tef,axis=0)<0],axis=0)"
   ]
  },
  {
   "cell_type": "markdown",
   "metadata": {},
   "source": [
    "#### Minimum leaf size 1000"
   ]
  },
  {
   "cell_type": "code",
   "execution_count": 16,
   "metadata": {},
   "outputs": [],
   "source": [
    "#basic tree classifier\n",
    "clf = tree.DecisionTreeRegressor(criterion='mse',min_samples_leaf=1000)"
   ]
  },
  {
   "cell_type": "markdown",
   "metadata": {},
   "source": [
    "Train B trees to get a forest"
   ]
  },
  {
   "cell_type": "code",
   "execution_count": 17,
   "metadata": {
    "scrolled": true
   },
   "outputs": [
    {
     "data": {
      "application/vnd.jupyter.widget-view+json": {
       "model_id": "21785d5cacf241748a4f636f12f4b463",
       "version_major": 2,
       "version_minor": 0
      },
      "text/plain": [
       "IntProgress(value=0, max=10000)"
      ]
     },
     "metadata": {},
     "output_type": "display_data"
    },
    {
     "name": "stdout",
     "output_type": "stream",
     "text": [
      "0.0067790606931420255\n"
     ]
    }
   ],
   "source": [
    "tef, r, m, N = Causal_Forest_Estimator(X, y, D, W, s, B, clf)\n",
    "print(np.mean(r))"
   ]
  },
  {
   "cell_type": "markdown",
   "metadata": {},
   "source": [
    "Compute variance"
   ]
  },
  {
   "cell_type": "code",
   "execution_count": 18,
   "metadata": {},
   "outputs": [
    {
     "name": "stdout",
     "output_type": "stream",
     "text": [
      "0.0005932762040991328\n",
      "0.002372371672662943\n",
      "0.04870699818981809\n"
     ]
    }
   ],
   "source": [
    "compute_variance(N, tef)"
   ]
  },
  {
   "cell_type": "markdown",
   "metadata": {},
   "source": [
    "Statistics of treatment effect (min, mean, max)"
   ]
  },
  {
   "cell_type": "code",
   "execution_count": 19,
   "metadata": {
    "scrolled": true
   },
   "outputs": [
    {
     "name": "stdout",
     "output_type": "stream",
     "text": [
      "Min treatment effect: -0.02434\n",
      "Mean treatment effect: -0.00692\n",
      "Max treatment effect: 0.01033\n"
     ]
    }
   ],
   "source": [
    "compute_statistics(tef)"
   ]
  },
  {
   "cell_type": "markdown",
   "metadata": {},
   "source": [
    "Plot of the heterogeneity of the treatment effect:"
   ]
  },
  {
   "cell_type": "code",
   "execution_count": 20,
   "metadata": {
    "scrolled": false
   },
   "outputs": [
    {
     "data": {
      "image/png": "[encoded data removed]",
      "text/plain": [
       "<Figure size 432x288 with 1 Axes>"
      ]
     },
     "metadata": {},
     "output_type": "display_data"
    }
   ],
   "source": [
    "plot_tef_hist(tef)"
   ]
  },
  {
   "cell_type": "markdown",
   "metadata": {},
   "source": [
    "Find average characteristics for people for whom treatment effect is positive and for whom treatment effect is negative (or alternatively above or below the mean)"
   ]
  },
  {
   "cell_type": "code",
   "execution_count": 21,
   "metadata": {
    "scrolled": false
   },
   "outputs": [
    {
     "data": {
      "text/plain": [
       "array([2.66033975e-01, 1.95832175e+03, 2.11395891e-01, 3.00148274e-01,\n",
       "       5.38868884e-01, 4.63249312e-01, 1.90637577e-01, 4.41855539e-01,\n",
       "       3.67506884e-01])"
      ]
     },
     "execution_count": 21,
     "metadata": {},
     "output_type": "execute_result"
    }
   ],
   "source": [
    "np.mean(X[np.mean(tef,axis=0)>0],axis=0)"
   ]
  },
  {
   "cell_type": "code",
   "execution_count": 22,
   "metadata": {},
   "outputs": [
    {
     "data": {
      "text/plain": [
       "array([2.76444907e-01, 1.97844868e+03, 4.85164395e-02, 7.31756215e-02,\n",
       "       5.84202085e-01, 3.91740176e-01, 2.11507618e-01, 4.62109062e-01,\n",
       "       3.26383320e-01])"
      ]
     },
     "execution_count": 22,
     "metadata": {},
     "output_type": "execute_result"
    }
   ],
   "source": [
    "np.mean(X[np.mean(tef,axis=0)<0],axis=0)"
   ]
  }
 ],
 "metadata": {
  "kernelspec": {
   "display_name": "Python 3",
   "language": "python",
   "name": "python3"
  },
  "language_info": {
   "codemirror_mode": {
    "name": "ipython",
    "version": 3
   },
   "file_extension": ".py",
   "mimetype": "text/x-python",
   "name": "python",
   "nbconvert_exporter": "python",
   "pygments_lexer": "ipython3",
   "version": "3.6.10"
  }
 },
 "nbformat": 4,
 "nbformat_minor": 2
}
