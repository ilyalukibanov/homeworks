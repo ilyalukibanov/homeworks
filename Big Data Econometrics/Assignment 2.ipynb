{
 "cells": [
  {
   "cell_type": "markdown",
   "metadata": {},
   "source": [
    "# Problem Set 2"
   ]
  },
  {
   "cell_type": "markdown",
   "metadata": {},
   "source": [
    "### Anbar Aizenman, Ilya Lukibanov, Irina Osipova, Isamar Troncoso"
   ]
  },
  {
   "cell_type": "markdown",
   "metadata": {},
   "source": [
    "## Decision Trees"
   ]
  },
  {
   "cell_type": "markdown",
   "metadata": {},
   "source": [
    "#### Import libraries"
   ]
  },
  {
   "cell_type": "code",
   "execution_count": 1,
   "metadata": {
    "collapsed": true
   },
   "outputs": [],
   "source": [
    "import numpy as np\n",
    "import pandas as pd\n",
    "from sklearn.datasets import load_boston\n",
    "from sklearn.model_selection import KFold, GridSearchCV\n",
    "from sklearn.tree import DecisionTreeRegressor\n",
    "from sklearn.ensemble import BaggingRegressor, RandomForestRegressor\n",
    "import xgboost as xgb\n",
    "import matplotlib.pyplot as plt"
   ]
  },
  {
   "cell_type": "markdown",
   "metadata": {},
   "source": [
    "##### A"
   ]
  },
  {
   "cell_type": "code",
   "execution_count": 2,
   "metadata": {},
   "outputs": [
    {
     "name": "stdout",
     "output_type": "stream",
     "text": [
      "Boston House Prices dataset\n",
      "===========================\n",
      "\n",
      "Notes\n",
      "------\n",
      "Data Set Characteristics:  \n",
      "\n",
      "    :Number of Instances: 506 \n",
      "\n",
      "    :Number of Attributes: 13 numeric/categorical predictive\n",
      "    \n",
      "    :Median Value (attribute 14) is usually the target\n",
      "\n",
      "    :Attribute Information (in order):\n",
      "        - CRIM     per capita crime rate by town\n",
      "        - ZN       proportion of residential land zoned for lots over 25,000 sq.ft.\n",
      "        - INDUS    proportion of non-retail business acres per town\n",
      "        - CHAS     Charles River dummy variable (= 1 if tract bounds river; 0 otherwise)\n",
      "        - NOX      nitric oxides concentration (parts per 10 million)\n",
      "        - RM       average number of rooms per dwelling\n",
      "        - AGE      proportion of owner-occupied units built prior to 1940\n",
      "        - DIS      weighted distances to five Boston employment centres\n",
      "        - RAD      index of accessibility to radial highways\n",
      "        - TAX      full-value property-tax rate per $10,000\n",
      "        - PTRATIO  pupil-teacher ratio by town\n",
      "        - B        1000(Bk - 0.63)^2 where Bk is the proportion of blacks by town\n",
      "        - LSTAT    % lower status of the population\n",
      "        - MEDV     Median value of owner-occupied homes in $1000's\n",
      "\n",
      "    :Missing Attribute Values: None\n",
      "\n",
      "    :Creator: Harrison, D. and Rubinfeld, D.L.\n",
      "\n",
      "This is a copy of UCI ML housing dataset.\n",
      "http://archive.ics.uci.edu/ml/datasets/Housing\n",
      "\n",
      "\n",
      "This dataset was taken from the StatLib library which is maintained at Carnegie Mellon University.\n",
      "\n",
      "The Boston house-price data of Harrison, D. and Rubinfeld, D.L. 'Hedonic\n",
      "prices and the demand for clean air', J. Environ. Economics & Management,\n",
      "vol.5, 81-102, 1978.   Used in Belsley, Kuh & Welsch, 'Regression diagnostics\n",
      "...', Wiley, 1980.   N.B. Various transformations are used in the table on\n",
      "pages 244-261 of the latter.\n",
      "\n",
      "The Boston house-price data has been used in many machine learning papers that address regression\n",
      "problems.   \n",
      "     \n",
      "**References**\n",
      "\n",
      "   - Belsley, Kuh & Welsch, 'Regression diagnostics: Identifying Influential Data and Sources of Collinearity', Wiley, 1980. 244-261.\n",
      "   - Quinlan,R. (1993). Combining Instance-Based and Model-Based Learning. In Proceedings on the Tenth International Conference of Machine Learning, 236-243, University of Massachusetts, Amherst. Morgan Kaufmann.\n",
      "   - many more! (see http://archive.ics.uci.edu/ml/datasets/Housing)\n",
      "\n"
     ]
    }
   ],
   "source": [
    "boston = load_boston()\n",
    "X, y = boston.data, boston.target\n",
    "n_samples, n_features = X.shape \n",
    "print(boston['DESCR']) "
   ]
  },
  {
   "cell_type": "markdown",
   "metadata": {},
   "source": [
    "Information about variables is provided above. Target is the median value of owner-occupied homes in $1000's\n"
   ]
  },
  {
   "cell_type": "markdown",
   "metadata": {},
   "source": [
    "##### B"
   ]
  },
  {
   "cell_type": "code",
   "execution_count": 3,
   "metadata": {
    "collapsed": true
   },
   "outputs": [],
   "source": [
    "cver = KFold(n_splits=5, shuffle=True, random_state=0)\n",
    "folds = tuple(cver.split(X, y)) #a tuple of folds (i.e. splits into training and test samples)\n",
    "# estimation environment object (function):\n",
    "GridSearch = lambda estimator, estimator_params: GridSearchCV(estimator, estimator_params, cv=folds, scoring='neg_mean_squared_error', return_train_score=True)"
   ]
  },
  {
   "cell_type": "code",
   "execution_count": 4,
   "metadata": {},
   "outputs": [
    {
     "data": {
      "image/png": "[encoded data removed]",
      "text/plain": [
       "<matplotlib.figure.Figure at 0x18a70074cf8>"
      ]
     },
     "metadata": {},
     "output_type": "display_data"
    }
   ],
   "source": [
    "tree = DecisionTreeRegressor(random_state=0)\n",
    "tree_params = {'max_depth': range(1, 9)} #range for max depth of a tree\n",
    "tree_cv = GridSearch(tree, tree_params) #creates a tree estimator object\n",
    "tree_cv.fit(X, y) #fits a tree to X,y\n",
    "tree_cv_results = pd.DataFrame(tree_cv.cv_results_) #estimation results transformed to a pd.dataframe\n",
    "\n",
    "plt.plot(tree_cv_results['param_max_depth'], -tree_cv_results['mean_test_score'], label='test error')\n",
    "plt.plot(tree_cv_results['param_max_depth'], -tree_cv_results['mean_train_score'], label='training error')\n",
    "plt.legend()\n",
    "plt.show()"
   ]
  },
  {
   "cell_type": "markdown",
   "metadata": {},
   "source": [
    "##### C"
   ]
  },
  {
   "cell_type": "code",
   "execution_count": 5,
   "metadata": {},
   "outputs": [
    {
     "data": {
      "text/html": [
       "<div>\n",
       "<style>\n",
       "    .dataframe thead tr:only-child th {\n",
       "        text-align: right;\n",
       "    }\n",
       "\n",
       "    .dataframe thead th {\n",
       "        text-align: left;\n",
       "    }\n",
       "\n",
       "    .dataframe tbody tr th {\n",
       "        vertical-align: top;\n",
       "    }\n",
       "</style>\n",
       "<table border=\"1\" class=\"dataframe\">\n",
       "  <thead>\n",
       "    <tr style=\"text-align: right;\">\n",
       "      <th></th>\n",
       "      <th>mean_fit_time</th>\n",
       "      <th>mean_score_time</th>\n",
       "      <th>mean_test_score</th>\n",
       "      <th>mean_train_score</th>\n",
       "      <th>param_max_depth</th>\n",
       "      <th>params</th>\n",
       "      <th>rank_test_score</th>\n",
       "      <th>split0_test_score</th>\n",
       "      <th>split0_train_score</th>\n",
       "      <th>split1_test_score</th>\n",
       "      <th>...</th>\n",
       "      <th>split2_test_score</th>\n",
       "      <th>split2_train_score</th>\n",
       "      <th>split3_test_score</th>\n",
       "      <th>split3_train_score</th>\n",
       "      <th>split4_test_score</th>\n",
       "      <th>split4_train_score</th>\n",
       "      <th>std_fit_time</th>\n",
       "      <th>std_score_time</th>\n",
       "      <th>std_test_score</th>\n",
       "      <th>std_train_score</th>\n",
       "    </tr>\n",
       "  </thead>\n",
       "  <tbody>\n",
       "    <tr>\n",
       "      <th>5</th>\n",
       "      <td>0.003125</td>\n",
       "      <td>0.0</td>\n",
       "      <td>-26.049704</td>\n",
       "      <td>-4.312167</td>\n",
       "      <td>6</td>\n",
       "      <td>{'max_depth': 6}</td>\n",
       "      <td>1</td>\n",
       "      <td>-35.513933</td>\n",
       "      <td>-3.790609</td>\n",
       "      <td>-12.948493</td>\n",
       "      <td>...</td>\n",
       "      <td>-17.90649</td>\n",
       "      <td>-4.228355</td>\n",
       "      <td>-48.748333</td>\n",
       "      <td>-4.220647</td>\n",
       "      <td>-15.037567</td>\n",
       "      <td>-4.94457</td>\n",
       "      <td>0.006251</td>\n",
       "      <td>0.0</td>\n",
       "      <td>13.878041</td>\n",
       "      <td>0.371891</td>\n",
       "    </tr>\n",
       "  </tbody>\n",
       "</table>\n",
       "<p>1 rows × 21 columns</p>\n",
       "</div>"
      ],
      "text/plain": [
       "   mean_fit_time  mean_score_time  mean_test_score  mean_train_score  \\\n",
       "5       0.003125              0.0       -26.049704         -4.312167   \n",
       "\n",
       "  param_max_depth            params  rank_test_score  split0_test_score  \\\n",
       "5               6  {'max_depth': 6}                1         -35.513933   \n",
       "\n",
       "   split0_train_score  split1_test_score       ...         split2_test_score  \\\n",
       "5           -3.790609         -12.948493       ...                 -17.90649   \n",
       "\n",
       "   split2_train_score  split3_test_score  split3_train_score  \\\n",
       "5           -4.228355         -48.748333           -4.220647   \n",
       "\n",
       "   split4_test_score  split4_train_score  std_fit_time  std_score_time  \\\n",
       "5         -15.037567            -4.94457      0.006251             0.0   \n",
       "\n",
       "   std_test_score  std_train_score  \n",
       "5       13.878041         0.371891  \n",
       "\n",
       "[1 rows x 21 columns]"
      ]
     },
     "execution_count": 5,
     "metadata": {},
     "output_type": "execute_result"
    }
   ],
   "source": [
    "# optimal \"score\" (i.e. negative MSE) calculated over the testing sample\n",
    "tree_cv_results[tree_cv_results['rank_test_score']==1]"
   ]
  },
  {
   "cell_type": "code",
   "execution_count": 6,
   "metadata": {},
   "outputs": [
    {
     "name": "stdout",
     "output_type": "stream",
     "text": [
      "Optimal max depth is 6\n"
     ]
    }
   ],
   "source": [
    "omd = tree_cv_results[tree_cv_results['rank_test_score']==1]['param_max_depth'][tree_cv_results[tree_cv_results['rank_test_score']==1]['param_max_depth'].argmin()]\n",
    "print('Optimal max depth is', omd)"
   ]
  },
  {
   "cell_type": "markdown",
   "metadata": {},
   "source": [
    " "
   ]
  },
  {
   "cell_type": "markdown",
   "metadata": {},
   "source": [
    "## Ensemble Estimators"
   ]
  },
  {
   "cell_type": "markdown",
   "metadata": {},
   "source": [
    "In all parts, we use Grid Search, and 5-cross validation is contained in it."
   ]
  },
  {
   "cell_type": "markdown",
   "metadata": {},
   "source": [
    "##### A"
   ]
  },
  {
   "cell_type": "code",
   "execution_count": 7,
   "metadata": {},
   "outputs": [
    {
     "data": {
      "image/png": "[encoded data removed]",
      "text/plain": [
       "<matplotlib.figure.Figure at 0x18a703c7898>"
      ]
     },
     "metadata": {},
     "output_type": "display_data"
    }
   ],
   "source": [
    "# with max depth: 2, we have to chain n_estimators (number of trees to be aggregagted) from 1:200\n",
    "ensemble2 = BaggingRegressor(base_estimator = DecisionTreeRegressor(max_depth = 2)) \n",
    "ensemble2_params = {'n_estimators': range(1, 201)}\n",
    "ensemble2_cv = GridSearch(ensemble2, ensemble2_params)\n",
    "ensemble2_cv.fit(X, y)\n",
    "ensemble2_cv_results = pd.DataFrame(ensemble2_cv.cv_results_) #estimation results transformed to a pd.dataframe\n",
    "\n",
    "# with max depth: 6, we have to chain n_estimators (number of trees to be aggregagted) from 1:200\n",
    "ensemble6 = BaggingRegressor(base_estimator = DecisionTreeRegressor(max_depth = 6)) \n",
    "ensemble6_params = {'n_estimators': range(1, 201)}\n",
    "ensemble6_cv = GridSearch(ensemble6, ensemble6_params)\n",
    "ensemble6_cv.fit(X, y)\n",
    "ensemble6_cv_results = pd.DataFrame(ensemble6_cv.cv_results_) #estimation results transformed to a pd.dataframe\n",
    "\n",
    "# plot\n",
    "plt.plot(ensemble2_cv_results['param_n_estimators'], -ensemble2_cv_results['mean_test_score'], label='test error with max_depth = 2')\n",
    "plt.plot(ensemble6_cv_results['param_n_estimators'], -ensemble6_cv_results['mean_test_score'], label='test error with max_depth = 6')\n",
    "plt.legend()\n",
    "plt.show()\n"
   ]
  },
  {
   "cell_type": "markdown",
   "metadata": {},
   "source": [
    "##### B"
   ]
  },
  {
   "cell_type": "code",
   "execution_count": 8,
   "metadata": {},
   "outputs": [
    {
     "data": {
      "image/png": "[encoded data removed]",
      "text/plain": [
       "<matplotlib.figure.Figure at 0x18a7040c7f0>"
      ]
     },
     "metadata": {},
     "output_type": "display_data"
    }
   ],
   "source": [
    "#syntax for a random forest is similar to that for a single tree above\n",
    "rf = RandomForestRegressor(max_features='sqrt', random_state=0) #max_features='sqrt' indicates randomly choosing sqrt(p) of p features at each split\n",
    "tree_depths = [2, 6]\n",
    "rf_params = {'n_estimators': range(1, 201), 'max_depth': tree_depths} #n_estimators is number of trees (= boostrap samples)\n",
    "rf_cv = GridSearch(rf, rf_params)\n",
    "rf_cv.fit(X, y)\n",
    "rf_cv_results = pd.DataFrame(rf_cv.cv_results_)\n",
    "for depth in tree_depths:\n",
    "    results = rf_cv_results[rf_cv_results['param_max_depth']==depth]\n",
    "    plt.plot(results['param_n_estimators'], -results['mean_test_score'],\n",
    "             label='max_depth=%s' % depth)\n",
    "plt.legend()\n",
    "plt.show()"
   ]
  },
  {
   "cell_type": "markdown",
   "metadata": {},
   "source": [
    "##### C"
   ]
  },
  {
   "cell_type": "code",
   "execution_count": 9,
   "metadata": {},
   "outputs": [
    {
     "data": {
      "image/png": "[encoded data removed]",
      "text/plain": [
       "<matplotlib.figure.Figure at 0x18a703c7ba8>"
      ]
     },
     "metadata": {},
     "output_type": "display_data"
    }
   ],
   "source": [
    "xgb2 = xgb.XGBRegressor(max_depth = 2) \n",
    "xgb2_params = {'n_estimators': range(1, 201)}\n",
    "xgb2_cv = GridSearch(xgb2, xgb2_params)\n",
    "xgb2_cv.fit(X, y)\n",
    "xgb2_cv_results = pd.DataFrame(xgb2_cv.cv_results_) #estimation results transformed to a pd.dataframe\n",
    "\n",
    "xgb6 = xgb.XGBRegressor(max_depth = 6) \n",
    "xgb6_params = {'n_estimators': range(1, 201)}\n",
    "xgb6_cv = GridSearch(xgb6, xgb6_params)\n",
    "xgb6_cv.fit(X, y)\n",
    "xgb6_cv_results = pd.DataFrame(xgb6_cv.cv_results_) #estimation results transformed to a pd.dataframe\n",
    "\n",
    "\n",
    "# plot\n",
    "plt.plot(xgb2_cv_results['param_n_estimators'], -xgb2_cv_results['mean_test_score'], label='test error with max_depth = 2')\n",
    "plt.plot(xgb6_cv_results['param_n_estimators'], -xgb6_cv_results['mean_test_score'], label='test error with max_depth = 6')\n",
    "plt.legend()\n",
    "plt.show()"
   ]
  }
 ],
 "metadata": {
  "kernelspec": {
   "display_name": "Python 3",
   "language": "python",
   "name": "python3"
  },
  "language_info": {
   "codemirror_mode": {
    "name": "ipython",
    "version": 3
   },
   "file_extension": ".py",
   "mimetype": "text/x-python",
   "name": "python",
   "nbconvert_exporter": "python",
   "pygments_lexer": "ipython3",
   "version": "3.6.10"
  }
 },
 "nbformat": 4,
 "nbformat_minor": 2
}
